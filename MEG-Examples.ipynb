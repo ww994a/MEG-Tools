{
 "cells": [
  {
   "cell_type": "code",
   "execution_count": 5,
   "id": "287f19e9-19f8-4e9d-bee1-e32b210a6671",
   "metadata": {},
   "outputs": [],
   "source": [
    "import mne\n",
    "from MEG_Tools import MEG\n",
    "import matplotlib as plt\n",
    "import numpy as np\n",
    "plt.use('Qt5Agg')"
   ]
  },
  {
   "cell_type": "code",
   "execution_count": 6,
   "id": "4638f018-cf14-4dbf-b9f2-9cbde460f6e8",
   "metadata": {},
   "outputs": [
    {
     "name": "stdout",
     "output_type": "stream",
     "text": [
      "Creating RawArray with float64 data, n_channels=373, n_times=509000\n",
      "    Range : 0 ... 508999 =      0.000 ...   508.999 secs\n",
      "Ready.\n",
      "Writing /Users/williamwilson/Library/CloudStorage/Dropbox/Ganz/MEG/MEG-Tools/case_2225_with_spike_dipoles_sleep_2.mat.tmp.raw.fif\n",
      "Closing /Users/williamwilson/Library/CloudStorage/Dropbox/Ganz/MEG/MEG-Tools/case_2225_with_spike_dipoles_sleep_2.mat.tmp.raw.fif\n",
      "[done]\n",
      "Opening raw data file case_2225_with_spike_dipoles_sleep_2.mat.tmp.raw.fif...\n",
      "Isotrak not found\n",
      "    Range : 0 ... 508999 =      0.000 ...   508.999 secs\n",
      "Ready.\n"
     ]
    }
   ],
   "source": [
    "meg = MEG('case_2225_with_spike_dipoles_sleep_2.mat')\n",
    "mne_fif = meg.get_mne()"
   ]
  },
  {
   "cell_type": "code",
   "execution_count": 7,
   "id": "34172417-f9df-4255-a496-04e5e9123a45",
   "metadata": {},
   "outputs": [
    {
     "data": {
      "text/plain": [
       "<Figure size 1280x1280 with 1 Axes>"
      ]
     },
     "execution_count": 7,
     "metadata": {},
     "output_type": "execute_result"
    }
   ],
   "source": [
    "#Shows locations of EEG Sensors\n",
    "mne_fif.plot_sensors(ch_type='eeg')"
   ]
  },
  {
   "cell_type": "code",
   "execution_count": 8,
   "id": "0dba1d6b-4a32-45db-85ec-a2b051fbb4d3",
   "metadata": {},
   "outputs": [
    {
     "data": {
      "text/plain": [
       "<Figure size 1280x1280 with 1 Axes>"
      ]
     },
     "execution_count": 8,
     "metadata": {},
     "output_type": "execute_result"
    }
   ],
   "source": [
    "#Shows locations of MEG Sensors - 3D\n",
    "mne_fif.plot_sensors(kind='3d', ch_type='mag')"
   ]
  },
  {
   "cell_type": "code",
   "execution_count": 10,
   "id": "4146bb03-3d91-4c0c-8334-3a75cfbf51a1",
   "metadata": {},
   "outputs": [
    {
     "name": "stdout",
     "output_type": "stream",
     "text": [
      "Effective window size : 2.048 (s)\n"
     ]
    },
    {
     "name": "stderr",
     "output_type": "stream",
     "text": [
      "/var/folders/wg/kd9trb9j1915h9l1xr9jppmm0000gn/T/ipykernel_40224/1155776180.py:1: UserWarning: Zero value in spectrum for channels STI001, STI002, STI101, STI201\n",
      "  mne_fif.compute_psd(fmax=50).plot(picks=\"data\", exclude=\"bads\")\n",
      "/var/folders/wg/kd9trb9j1915h9l1xr9jppmm0000gn/T/ipykernel_40224/1155776180.py:1: UserWarning: Infinite value in PSD for channels STI001, STI002, STI101, STI201.\n",
      "These channels might be dead.\n",
      "  mne_fif.compute_psd(fmax=50).plot(picks=\"data\", exclude=\"bads\")\n"
     ]
    },
    {
     "name": "stdout",
     "output_type": "stream",
     "text": [
      "Using matplotlib as 2D backend.\n"
     ]
    },
    {
     "data": {
      "text/plain": [
       "<MNEBrowseFigure size 1600x1600 with 4 Axes>"
      ]
     },
     "execution_count": 10,
     "metadata": {},
     "output_type": "execute_result"
    },
    {
     "name": "stdout",
     "output_type": "stream",
     "text": [
      "Channels marked as bad:\n",
      "none\n"
     ]
    }
   ],
   "source": [
    "mne_fif.compute_psd(fmax=50).plot(picks=\"data\", exclude=\"bads\")\n",
    "mne_fif.plot(duration=5, n_channels=30)"
   ]
  },
  {
   "cell_type": "code",
   "execution_count": 9,
   "id": "b9aab2a6-9a03-4e90-a814-f21c136312a6",
   "metadata": {},
   "outputs": [
    {
     "name": "stdout",
     "output_type": "stream",
     "text": [
      "Fitting ICA to data using 373 channels (please be patient, this may take a while)\n"
     ]
    },
    {
     "name": "stderr",
     "output_type": "stream",
     "text": [
      "/var/folders/wg/kd9trb9j1915h9l1xr9jppmm0000gn/T/ipykernel_40224/4012818128.py:3: RuntimeWarning: The data has not been high-pass filtered. For good ICA performance, it should be high-pass filtered (e.g., with a 1.0 Hz lower bound) before fitting ICA.\n",
      "  ica.fit(mne_fif)\n"
     ]
    },
    {
     "name": "stdout",
     "output_type": "stream",
     "text": [
      "Selecting by number: 20 components\n",
      "Fitting ICA took 16.0s.\n",
      "    Using multitaper spectrum estimation with 7 DPSS windows\n",
      "Not setting metadata\n",
      "254 matching events found\n",
      "No baseline correction applied\n",
      "0 projection items activated\n",
      "Not setting metadata\n",
      "254 matching events found\n",
      "No baseline correction applied\n",
      "0 projection items activated\n"
     ]
    },
    {
     "data": {
      "text/plain": [
       "[<Figure size 1400x1200 with 6 Axes>, <Figure size 1400x1200 with 6 Axes>]"
      ]
     },
     "execution_count": 9,
     "metadata": {},
     "output_type": "execute_result"
    }
   ],
   "source": [
    "# set up and fit the ICA - requires several libraries check error messages\n",
    "ica = mne.preprocessing.ICA(n_components=20, random_state=97, max_iter=800)\n",
    "ica.fit(mne_fif)\n",
    "ica.exclude = [1, 2]  # details on how we picked these are omitted here\n",
    "ica.plot_properties(mne_fif, picks=ica.exclude)"
   ]
  }
 ],
 "metadata": {
  "kernelspec": {
   "display_name": "Python 3 (ipykernel)",
   "language": "python",
   "name": "python3"
  },
  "language_info": {
   "codemirror_mode": {
    "name": "ipython",
    "version": 3
   },
   "file_extension": ".py",
   "mimetype": "text/x-python",
   "name": "python",
   "nbconvert_exporter": "python",
   "pygments_lexer": "ipython3",
   "version": "3.12.0"
  }
 },
 "nbformat": 4,
 "nbformat_minor": 5
}
