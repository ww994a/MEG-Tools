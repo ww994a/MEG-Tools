{
 "cells": [
  {
   "cell_type": "code",
   "execution_count": 1,
   "id": "287f19e9-19f8-4e9d-bee1-e32b210a6671",
   "metadata": {},
   "outputs": [],
   "source": [
    "import mne\n",
    "from MEG_Tools import MEG\n",
    "import matplotlib as plt\n",
    "import numpy as np\n",
    "plt.use('Qt5Agg')"
   ]
  },
  {
   "cell_type": "code",
   "execution_count": 2,
   "id": "4638f018-cf14-4dbf-b9f2-9cbde460f6e8",
   "metadata": {},
   "outputs": [
    {
     "name": "stdout",
     "output_type": "stream",
     "text": [
      "Creating RawArray with float64 data, n_channels=373, n_times=509000\n",
      "    Range : 0 ... 508999 =      0.000 ...   508.999 secs\n",
      "Ready.\n",
      "Writing /Users/williamwilson/Library/CloudStorage/Dropbox/Ganz/MEG/MEG-Tools/case_2225_with_spike_dipoles_sleep_2.mat.tmp.raw.fif\n",
      "Closing /Users/williamwilson/Library/CloudStorage/Dropbox/Ganz/MEG/MEG-Tools/case_2225_with_spike_dipoles_sleep_2.mat.tmp.raw.fif\n",
      "[done]\n",
      "Opening raw data file case_2225_with_spike_dipoles_sleep_2.mat.tmp.raw.fif...\n",
      "Isotrak not found\n",
      "    Range : 0 ... 508999 =      0.000 ...   508.999 secs\n",
      "Ready.\n",
      "Reading 0 ... 508999  =      0.000 ...   508.999 secs...\n",
      "Used Annotations descriptions: ['Spike']\n"
     ]
    }
   ],
   "source": [
    "meg = MEG('case_2225_with_spike_dipoles_sleep_2.mat')\n",
    "mne_fif = meg.get_mne()"
   ]
  },
  {
   "cell_type": "code",
   "execution_count": 5,
   "id": "e61ed4a9-d016-4c09-b2e9-30bc7028bd29",
   "metadata": {},
   "outputs": [
    {
     "name": "stdout",
     "output_type": "stream",
     "text": [
      "35 events found on stim channel STI101\n",
      "Event IDs: [1]\n"
     ]
    }
   ],
   "source": [
    "#Show spikes as events\n",
    "events = mne.find_events(mne_fif)\n",
    "event_id = {\n",
    "    'Spike':1\n",
    "}\n"
   ]
  },
  {
   "cell_type": "code",
   "execution_count": 6,
   "id": "77f00a04-1a70-4f37-a91a-77975cc8b37c",
   "metadata": {},
   "outputs": [
    {
     "name": "stdout",
     "output_type": "stream",
     "text": [
      "Using matplotlib as 2D backend.\n"
     ]
    },
    {
     "data": {
      "text/plain": [
       "<MNEBrowseFigure size 1600x1600 with 4 Axes>"
      ]
     },
     "execution_count": 6,
     "metadata": {},
     "output_type": "execute_result"
    },
    {
     "name": "stdout",
     "output_type": "stream",
     "text": [
      "Channels marked as bad:\n",
      "none\n"
     ]
    }
   ],
   "source": [
    "mne_fif.plot(events=events, event_id=event_id)"
   ]
  },
  {
   "cell_type": "code",
   "execution_count": null,
   "id": "34172417-f9df-4255-a496-04e5e9123a45",
   "metadata": {},
   "outputs": [],
   "source": [
    "#Shows locations of EEG Sensors\n",
    "mne_fif.plot_sensors(ch_type='eeg')"
   ]
  },
  {
   "cell_type": "code",
   "execution_count": null,
   "id": "0dba1d6b-4a32-45db-85ec-a2b051fbb4d3",
   "metadata": {},
   "outputs": [],
   "source": [
    "#Shows locations of MEG Sensors - 3D\n",
    "mne_fif.plot_sensors(kind='3d', ch_type='mag')"
   ]
  },
  {
   "cell_type": "code",
   "execution_count": null,
   "id": "4146bb03-3d91-4c0c-8334-3a75cfbf51a1",
   "metadata": {},
   "outputs": [],
   "source": [
    "mne_fif.compute_psd(fmax=50).plot(picks=\"data\", exclude=\"bads\")\n",
    "mne_fif.plot(duration=5, n_channels=30)"
   ]
  },
  {
   "cell_type": "code",
   "execution_count": null,
   "id": "b9aab2a6-9a03-4e90-a814-f21c136312a6",
   "metadata": {},
   "outputs": [],
   "source": [
    "# set up and fit the ICA - requires several libraries check error messages\n",
    "ica = mne.preprocessing.ICA(n_components=20, random_state=97, max_iter=800)\n",
    "ica.fit(mne_fif)\n",
    "ica.exclude = [1, 2]  # details on how we picked these are omitted here\n",
    "ica.plot_properties(mne_fif, picks=ica.exclude)"
   ]
  },
  {
   "cell_type": "code",
   "execution_count": null,
   "id": "b3eb0e1a-d6c0-4d6b-8ffc-c1b1fc65bc7a",
   "metadata": {},
   "outputs": [],
   "source": [
    "#what other things can MEG Object do?\n",
    "meg.channels[0]"
   ]
  },
  {
   "cell_type": "code",
   "execution_count": null,
   "id": "05cd67a1-0977-424f-b58c-e07f3dfc8425",
   "metadata": {},
   "outputs": [],
   "source": [
    "meg.data_raw"
   ]
  },
  {
   "cell_type": "code",
   "execution_count": null,
   "id": "539e25e5-fbe8-40e4-b7d9-a8fe73985052",
   "metadata": {},
   "outputs": [],
   "source": []
  }
 ],
 "metadata": {
  "kernelspec": {
   "display_name": "Python 3 (ipykernel)",
   "language": "python",
   "name": "python3"
  },
  "language_info": {
   "codemirror_mode": {
    "name": "ipython",
    "version": 3
   },
   "file_extension": ".py",
   "mimetype": "text/x-python",
   "name": "python",
   "nbconvert_exporter": "python",
   "pygments_lexer": "ipython3",
   "version": "3.12.0"
  }
 },
 "nbformat": 4,
 "nbformat_minor": 5
}
