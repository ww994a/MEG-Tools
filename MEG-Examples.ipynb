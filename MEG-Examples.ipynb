{
 "cells": [
  {
   "cell_type": "code",
   "execution_count": 1,
   "id": "287f19e9-19f8-4e9d-bee1-e32b210a6671",
   "metadata": {},
   "outputs": [],
   "source": [
    "import mne\n",
    "from MEG_Tools import MEG\n",
    "\n",
    "import matplotlib as plt\n",
    "import numpy as np\n",
    "plt.use('Qt5Agg')"
   ]
  },
  {
   "cell_type": "code",
   "execution_count": 2,
   "id": "4638f018-cf14-4dbf-b9f2-9cbde460f6e8",
   "metadata": {},
   "outputs": [
    {
     "name": "stdout",
     "output_type": "stream",
     "text": [
      "Complete!                         \n",
      "Creating RawArray with float64 data, n_channels=373, n_times=509000\n",
      "    Range : 0 ... 508999 =      0.000 ...   508.999 secs\n",
      "Ready.\n",
      "Writing /Users/williamwilson/Library/CloudStorage/Dropbox/Projects/MEG/MEG-Tools/case_2225_with_spike_dipoles_sleep_2.mat.raw.fif\n",
      "Closing /Users/williamwilson/Library/CloudStorage/Dropbox/Projects/MEG/MEG-Tools/case_2225_with_spike_dipoles_sleep_2.mat.raw.fif\n",
      "[done]\n",
      "Opening raw data file case_2225_with_spike_dipoles_sleep_2.mat.raw.fif...\n",
      "Isotrak not found\n",
      "    Range : 0 ... 508999 =      0.000 ...   508.999 secs\n",
      "Ready.\n",
      "Reading 0 ... 508999  =      0.000 ...   508.999 secs...\n",
      "Used Annotations descriptions: ['Spike']\n"
     ]
    }
   ],
   "source": [
    "meg = MEG('case_2225_with_spike_dipoles_sleep_2.mat')\n",
    "mne_fif = meg.get_mne()"
   ]
  },
  {
   "cell_type": "code",
   "execution_count": 3,
   "id": "e61ed4a9-d016-4c09-b2e9-30bc7028bd29",
   "metadata": {},
   "outputs": [
    {
     "name": "stdout",
     "output_type": "stream",
     "text": [
      "35 events found on stim channel STI101\n",
      "Event IDs: [1]\n"
     ]
    }
   ],
   "source": [
    "#Show spikes as events\n",
    "events = mne.find_events(mne_fif)\n",
    "event_id = {\n",
    "    'Spike':1\n",
    "}\n"
   ]
  },
  {
   "cell_type": "code",
   "execution_count": 4,
   "id": "77f00a04-1a70-4f37-a91a-77975cc8b37c",
   "metadata": {},
   "outputs": [
    {
     "name": "stdout",
     "output_type": "stream",
     "text": [
      "Using matplotlib as 2D backend.\n"
     ]
    },
    {
     "data": {
      "text/plain": [
       "<MNEBrowseFigure size 1600x1600 with 4 Axes>"
      ]
     },
     "execution_count": 4,
     "metadata": {},
     "output_type": "execute_result"
    }
   ],
   "source": [
    "mne_fif.plot(events=events, event_id=event_id)"
   ]
  },
  {
   "cell_type": "code",
   "execution_count": 5,
   "id": "34172417-f9df-4255-a496-04e5e9123a45",
   "metadata": {},
   "outputs": [
    {
     "data": {
      "text/plain": [
       "<Figure size 1280x1280 with 1 Axes>"
      ]
     },
     "execution_count": 5,
     "metadata": {},
     "output_type": "execute_result"
    }
   ],
   "source": [
    "#Shows locations of EEG Sensors\n",
    "mne_fif.plot_sensors(ch_type='eeg')"
   ]
  },
  {
   "cell_type": "code",
   "execution_count": 6,
   "id": "0dba1d6b-4a32-45db-85ec-a2b051fbb4d3",
   "metadata": {},
   "outputs": [
    {
     "data": {
      "text/plain": [
       "<Figure size 1280x1280 with 1 Axes>"
      ]
     },
     "execution_count": 6,
     "metadata": {},
     "output_type": "execute_result"
    }
   ],
   "source": [
    "#Shows locations of MEG Sensors - 3D\n",
    "mne_fif.plot_sensors(kind='3d', ch_type='mag')"
   ]
  },
  {
   "cell_type": "code",
   "execution_count": 7,
   "id": "4146bb03-3d91-4c0c-8334-3a75cfbf51a1",
   "metadata": {},
   "outputs": [
    {
     "name": "stdout",
     "output_type": "stream",
     "text": [
      "Effective window size : 2.048 (s)\n"
     ]
    },
    {
     "name": "stderr",
     "output_type": "stream",
     "text": [
      "/var/folders/wg/kd9trb9j1915h9l1xr9jppmm0000gn/T/ipykernel_39613/1155776180.py:1: UserWarning: Zero value in spectrum for channels STI001, STI002, STI201\n",
      "  mne_fif.compute_psd(fmax=50).plot(picks=\"data\", exclude=\"bads\")\n",
      "/var/folders/wg/kd9trb9j1915h9l1xr9jppmm0000gn/T/ipykernel_39613/1155776180.py:1: UserWarning: Infinite value in PSD for channels STI001, STI002, STI201.\n",
      "These channels might be dead.\n",
      "  mne_fif.compute_psd(fmax=50).plot(picks=\"data\", exclude=\"bads\")\n"
     ]
    },
    {
     "data": {
      "text/plain": [
       "<MNEBrowseFigure size 1600x1600 with 4 Axes>"
      ]
     },
     "execution_count": 7,
     "metadata": {},
     "output_type": "execute_result"
    }
   ],
   "source": [
    "mne_fif.compute_psd(fmax=50).plot(picks=\"data\", exclude=\"bads\")\n",
    "mne_fif.plot(duration=5, n_channels=30)"
   ]
  },
  {
   "cell_type": "code",
   "execution_count": 8,
   "id": "b9aab2a6-9a03-4e90-a814-f21c136312a6",
   "metadata": {},
   "outputs": [
    {
     "name": "stdout",
     "output_type": "stream",
     "text": [
      "Fitting ICA to data using 373 channels (please be patient, this may take a while)\n"
     ]
    },
    {
     "name": "stderr",
     "output_type": "stream",
     "text": [
      "/var/folders/wg/kd9trb9j1915h9l1xr9jppmm0000gn/T/ipykernel_39613/4012818128.py:3: RuntimeWarning: The data has not been high-pass filtered. For good ICA performance, it should be high-pass filtered (e.g., with a 1.0 Hz lower bound) before fitting ICA.\n",
      "  ica.fit(mne_fif)\n"
     ]
    },
    {
     "name": "stdout",
     "output_type": "stream",
     "text": [
      "Selecting by number: 20 components\n",
      "Fitting ICA took 16.0s.\n",
      "    Using multitaper spectrum estimation with 7 DPSS windows\n",
      "Not setting metadata\n",
      "254 matching events found\n",
      "No baseline correction applied\n",
      "0 projection items activated\n",
      "Not setting metadata\n",
      "254 matching events found\n",
      "No baseline correction applied\n",
      "0 projection items activated\n",
      "Channels marked as bad:\n",
      "none\n",
      "Channels marked as bad:\n",
      "none\n"
     ]
    },
    {
     "data": {
      "text/plain": [
       "[<Figure size 1400x1200 with 6 Axes>, <Figure size 1400x1200 with 6 Axes>]"
      ]
     },
     "execution_count": 8,
     "metadata": {},
     "output_type": "execute_result"
    }
   ],
   "source": [
    "# set up and fit the ICA - requires several libraries check error messages\n",
    "ica = mne.preprocessing.ICA(n_components=20, random_state=97, max_iter=800)\n",
    "ica.fit(mne_fif)\n",
    "ica.exclude = [1, 2]  # details on how we picked these are omitted here\n",
    "ica.plot_properties(mne_fif, picks=ica.exclude)"
   ]
  },
  {
   "cell_type": "code",
   "execution_count": 9,
   "id": "b3eb0e1a-d6c0-4d6b-8ffc-c1b1fc65bc7a",
   "metadata": {},
   "outputs": [
    {
     "data": {
      "text/plain": [
       "{'scanno': 1,\n",
       " 'logno': 113,\n",
       " 'kind': 1,\n",
       " 'range': 1.9073486328125e-05,\n",
       " 'cal': 3.250000046861601e-09,\n",
       " 'coil_type': 3012,\n",
       " 'loc': array([-0.1066    ,  0.0464    , -0.0604    , -0.0182322 ,  0.00675066,\n",
       "        -0.99981087, -0.18647437, -0.98246509, -0.00330544, -0.98228401,\n",
       "         0.18637501,  0.019178  ]),\n",
       " 'coil_trans': array([[-0.0182322 , -0.18647437, -0.98228401, -0.1066    ],\n",
       "        [ 0.00675066, -0.98246509,  0.18637501,  0.0464    ],\n",
       "        [-0.99981087, -0.00330544,  0.019178  , -0.0604    ],\n",
       "        [ 0.        ,  0.        ,  0.        ,  1.        ]]),\n",
       " 'eeg_loc': array([], shape=(0, 0), dtype=uint8),\n",
       " 'coord_frame': 1,\n",
       " 'unit': 201,\n",
       " 'unit_mul': 0,\n",
       " 'ch_name': 'MEG0113'}"
      ]
     },
     "execution_count": 9,
     "metadata": {},
     "output_type": "execute_result"
    }
   ],
   "source": [
    "#what other things can MEG Object do?\n",
    "meg.channels[0]"
   ]
  },
  {
   "cell_type": "code",
   "execution_count": 10,
   "id": "05cd67a1-0977-424f-b58c-e07f3dfc8425",
   "metadata": {},
   "outputs": [
    {
     "data": {
      "text/plain": [
       "array([[-2.23027011e-11, -2.57728839e-11, -1.69063301e-11, ...,\n",
       "         2.11079013e-12,  1.20081700e-12, -5.12722152e-13],\n",
       "       [ 1.96141645e-11,  1.35017570e-11,  1.70596885e-11, ...,\n",
       "        -2.91380424e-12, -5.44706189e-12, -5.38703007e-12],\n",
       "       [-3.13345623e-13, -3.16279093e-13, -7.93843784e-14, ...,\n",
       "        -8.21198561e-13, -6.99991398e-13, -6.47118615e-13],\n",
       "       ...,\n",
       "       [ 0.00000000e+00,  0.00000000e+00,  0.00000000e+00, ...,\n",
       "         0.00000000e+00,  0.00000000e+00,  0.00000000e+00],\n",
       "       [ 0.00000000e+00,  0.00000000e+00,  0.00000000e+00, ...,\n",
       "         0.00000000e+00,  0.00000000e+00,  0.00000000e+00],\n",
       "       [-9.59587097e-02, -4.26483154e-02,  1.06620789e-02, ...,\n",
       "         6.25197649e+00,  6.19866610e+00,  6.14535570e+00]])"
      ]
     },
     "execution_count": 10,
     "metadata": {},
     "output_type": "execute_result"
    }
   ],
   "source": [
    "meg.data_raw"
   ]
  },
  {
   "cell_type": "code",
   "execution_count": null,
   "id": "539e25e5-fbe8-40e4-b7d9-a8fe73985052",
   "metadata": {},
   "outputs": [],
   "source": []
  }
 ],
 "metadata": {
  "kernelspec": {
   "display_name": "Python 3 (ipykernel)",
   "language": "python",
   "name": "python3"
  },
  "language_info": {
   "codemirror_mode": {
    "name": "ipython",
    "version": 3
   },
   "file_extension": ".py",
   "mimetype": "text/x-python",
   "name": "python",
   "nbconvert_exporter": "python",
   "pygments_lexer": "ipython3",
   "version": "3.12.0"
  }
 },
 "nbformat": 4,
 "nbformat_minor": 5
}
