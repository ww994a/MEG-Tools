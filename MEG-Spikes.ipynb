{
 "cells": [
  {
   "cell_type": "code",
   "execution_count": null,
   "id": "d083bb1a-5ede-4146-9e14-07951e3bae2c",
   "metadata": {},
   "outputs": [],
   "source": [
    "#Look Ma a Spike\n"
   ]
  },
  {
   "cell_type": "code",
   "execution_count": null,
   "id": "d029a275-b07e-462d-8004-b265c91e9aba",
   "metadata": {},
   "outputs": [],
   "source": [
    "import math\n",
    "import mne\n",
    "from MEG_Tools import MEG\n",
    "import matplotlib as plt\n",
    "import numpy as np\n",
    "plt.use('Qt5Agg')\n",
    "meg = MEG('case_2225_with_spike_dipoles_sleep_2.mat')\n",
    "mne_fif = meg.get_mne()"
   ]
  },
  {
   "cell_type": "code",
   "execution_count": null,
   "id": "979b5dd5-01b8-4b89-afdb-a0ea052a1178",
   "metadata": {},
   "outputs": [],
   "source": [
    "#First we find the location of a known spike\n",
    "\n",
    "known_spike_time = meg.spikes[0]['begin']\n",
    "known_spike_time = int(math.floor(known_spike_time))#round to second below\n",
    "known_spike_time"
   ]
  },
  {
   "cell_type": "code",
   "execution_count": null,
   "id": "e50cc42f-463b-4f15-a8c7-60e3b47792a9",
   "metadata": {},
   "outputs": [],
   "source": [
    "def round_down_to_nearest_epoch(time, epoch_length):\n",
    "    # Rounds the time down to the nearest multiple of epoch_length\n",
    "    return int(math.floor(time / epoch_length))\n"
   ]
  },
  {
   "cell_type": "code",
   "execution_count": null,
   "id": "ddf862e9-d095-4e99-b5f5-6b2ae91f7824",
   "metadata": {},
   "outputs": [],
   "source": [
    "#Make epochs\n",
    "length_of_epoch = 1 #number of seconds\n",
    "\n",
    "sfreq = mne_fif.info['sfreq']\n",
    "#events = np.array([[i, 0, 1] for i in range(0, mne_fif.n_times - int(sfreq), int(sfreq))], dtype=int)\n",
    "events = np.array([[i, 0, 1] for i in range(0, mne_fif.n_times - int(length_of_epoch * sfreq), int(length_of_epoch * sfreq))], dtype=int)\n",
    "\n",
    "#epochs = mne.Epochs(mne_fif, events, event_id={'one_sec': 1}, tmin=0, tmax=1, baseline=None, preload=True)\n",
    "epochs = mne.Epochs(mne_fif, events, event_id={str(length_of_epoch)+\" sec\": 1}, tmin=0, tmax=3, baseline=None, preload=True)\n"
   ]
  },
  {
   "cell_type": "code",
   "execution_count": null,
   "id": "915d25c0-62e4-4e37-aa7b-fed7ae654f3a",
   "metadata": {},
   "outputs": [],
   "source": [
    "#Let's take a look....\n",
    "first_spike = epochs[round_down_to_nearest_epoch(known_spike_time,length_of_epoch)]\n",
    "\n",
    "# Plot the first epoch\n",
    "first_spike.plot()"
   ]
  },
  {
   "cell_type": "code",
   "execution_count": null,
   "id": "ff6208cb-ba0a-41b2-89c9-55788392c00c",
   "metadata": {},
   "outputs": [],
   "source": [
    "#plot spikes & epochs\n",
    "epochs.plot(scalings={'mag': 3.0e-11,'eeg': 1.0e-3})  # Manual adjustment"
   ]
  },
  {
   "cell_type": "code",
   "execution_count": null,
   "id": "9f305eb2-6403-4c7c-a969-f5b18252925a",
   "metadata": {},
   "outputs": [],
   "source": [
    "#plot - Wavelet Spike\n",
    "frequencies = np.arange(4, 70, 1)\n",
    "spike_time = round_down_to_nearest_epoch(known_spike_time,length_of_epoch)\n",
    "power = mne.time_frequency.tfr_morlet(\n",
    "    epochs[spike_time:spike_time+1], n_cycles=2, return_itc=False, freqs=frequencies, decim=3\n",
    ")\n",
    "power.plot([\"MEG0242\"])"
   ]
  },
  {
   "cell_type": "code",
   "execution_count": null,
   "id": "194d932a-2fad-4e60-8b06-6fcf5184af20",
   "metadata": {},
   "outputs": [],
   "source": [
    "#plot - Wavelet Non-Spike\n",
    "frequencies = np.arange(4, 70, 1)\n",
    "power = mne.time_frequency.tfr_morlet(\n",
    "    epochs[length_of_epoch*3:length_of_epoch*4], n_cycles=2, return_itc=False, freqs=frequencies, decim=3\n",
    ")\n",
    "power.plot([\"MEG0242\"])"
   ]
  },
  {
   "cell_type": "code",
   "execution_count": null,
   "id": "12a9412a-b4ec-4327-b599-cf45a0a8c47a",
   "metadata": {},
   "outputs": [],
   "source": [
    "#plot \n",
    "epochs[spike_time-1:spike_time+1].plot_image(picks=[\"MEG0242\"])"
   ]
  },
  {
   "cell_type": "code",
   "execution_count": null,
   "id": "7641b080-b5fc-4b53-80f5-74b012ccd539",
   "metadata": {},
   "outputs": [],
   "source": [
    "def get_spiked_lists(epochs_,meg_):\n",
    "    epochlength = round_down_to_nearest_epoch(len(epochs_), length_of_epoch)\n",
    "  \n",
    "    spiked_list_ = []\n",
    "    for spike in meg_.spikes:\n",
    "        begin = spike['begin']\n",
    "        rounded_begin = round_down_to_nearest_epoch(begin, length_of_epoch)\n",
    "        spiked_list_.append(rounded_begin)\n",
    "    \n",
    "    # Remove duplicates and sort spiked_list\n",
    "    spiked_list_ = sorted(list(set(spiked_list_)))\n",
    "    \n",
    "    # Creating unspiked_list\n",
    "    unspiked_list_ = [i for i in range(epochlength) if i not in spiked_list_]\n",
    "    \n",
    "    spiked_epochs_ = epochs_[spiked_list_]\n",
    "    unspiked_epochs_ = epochs_[unspiked_list_]\n",
    "    return (spiked_list_,unspiked_list_,spiked_epochs_,unspiked_epochs_)\n",
    "\n"
   ]
  },
  {
   "cell_type": "code",
   "execution_count": null,
   "id": "4eb2d976-f208-4aa2-bf88-9b0e684c677a",
   "metadata": {},
   "outputs": [],
   "source": [
    "(spiked_list,unspiked_list,spiked_epochs, unspiked_epochs) = get_spiked_lists(epochs,meg)"
   ]
  },
  {
   "cell_type": "code",
   "execution_count": null,
   "id": "0eff8efb-761c-4334-85a5-15480be02135",
   "metadata": {},
   "outputs": [],
   "source": [
    "#Plot\n",
    "#GFP - \"Global Field Power\"\n",
    "#GFP is calculated by summing the squared signals from all sensors or channels across the scalp or head. \n",
    "#It can be used to analyze and visualize the overall intensity of brain activity, \n",
    "#helping researchers identify periods of high neural engagement or specific brain regions that are \n",
    "#particularly active during certain tasks or conditions.\n",
    "\n",
    "spiked_evoked = spiked_epochs.average()\n",
    "unspiked_evoked = unspiked_epochs.average()\n",
    "\n",
    "mne.viz.plot_compare_evokeds(\n",
    "    dict(spiked=spiked_evoked, unspiked=unspiked_evoked),\n",
    "    legend=\"upper left\",\n",
    "    show_sensors=\"upper right\",\n",
    ")"
   ]
  },
  {
   "cell_type": "code",
   "execution_count": null,
   "id": "f7b87347-84eb-4e23-972c-e91a0841f96e",
   "metadata": {},
   "outputs": [],
   "source": [
    "#Plot\n",
    "evoked_diff = mne.combine_evoked([spiked_evoked, unspiked_evoked], weights=[1, -1])\n",
    "evoked_diff.pick(picks=\"mag\").plot_topo(color=\"r\", legend=False)"
   ]
  },
  {
   "cell_type": "code",
   "execution_count": null,
   "id": "d709a6a0-a373-4cdc-bdd8-1a628a3a55e3",
   "metadata": {},
   "outputs": [],
   "source": [
    "#Plot - Hmmmm\n",
    "spiked_evoked.plot_joint(picks=\"mag\")\n",
    "spiked_evoked.plot_topomap(times=[0.0, 0.08, 0.1, 0.12, 0.2], ch_type=\"mag\")"
   ]
  },
  {
   "cell_type": "code",
   "execution_count": null,
   "id": "055753ee-f13e-409f-acca-c6ae006720d7",
   "metadata": {},
   "outputs": [],
   "source": []
  },
  {
   "cell_type": "code",
   "execution_count": null,
   "id": "0f14de38-ead0-4e15-b084-e2e3d4f86c2c",
   "metadata": {},
   "outputs": [],
   "source": []
  }
 ],
 "metadata": {
  "kernelspec": {
   "display_name": "Python 3 (ipykernel)",
   "language": "python",
   "name": "python3"
  },
  "language_info": {
   "codemirror_mode": {
    "name": "ipython",
    "version": 3
   },
   "file_extension": ".py",
   "mimetype": "text/x-python",
   "name": "python",
   "nbconvert_exporter": "python",
   "pygments_lexer": "ipython3",
   "version": "3.12.0"
  }
 },
 "nbformat": 4,
 "nbformat_minor": 5
}
