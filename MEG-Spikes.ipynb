{
 "cells": [
  {
   "cell_type": "code",
   "execution_count": null,
   "id": "d083bb1a-5ede-4146-9e14-07951e3bae2c",
   "metadata": {},
   "outputs": [],
   "source": [
    "#Look Ma a Spike\n"
   ]
  },
  {
   "cell_type": "code",
   "execution_count": 1,
   "id": "d029a275-b07e-462d-8004-b265c91e9aba",
   "metadata": {},
   "outputs": [
    {
     "name": "stdout",
     "output_type": "stream",
     "text": [
      "Creating RawArray with float64 data, n_channels=373, n_times=509000\n",
      "    Range : 0 ... 508999 =      0.000 ...   508.999 secs\n",
      "Ready.\n",
      "Writing /Users/williamwilson/Library/CloudStorage/Dropbox/Ganz/MEG/MEG-Tools/case_2225_with_spike_dipoles_sleep_2.mat.tmp.raw.fif\n",
      "Closing /Users/williamwilson/Library/CloudStorage/Dropbox/Ganz/MEG/MEG-Tools/case_2225_with_spike_dipoles_sleep_2.mat.tmp.raw.fif\n",
      "[done]\n",
      "Opening raw data file case_2225_with_spike_dipoles_sleep_2.mat.tmp.raw.fif...\n",
      "Isotrak not found\n",
      "    Range : 0 ... 508999 =      0.000 ...   508.999 secs\n",
      "Ready.\n"
     ]
    }
   ],
   "source": [
    "import math\n",
    "import mne\n",
    "from MEG_Tools import MEG\n",
    "import matplotlib as plt\n",
    "import numpy as np\n",
    "plt.use('Qt5Agg')\n",
    "meg = MEG('case_2225_with_spike_dipoles_sleep_2.mat')\n",
    "mne_fif = meg.get_mne()"
   ]
  },
  {
   "cell_type": "code",
   "execution_count": null,
   "id": "5c18e5d3-f1a0-43f1-84fb-a8a23bcd1fd6",
   "metadata": {},
   "outputs": [],
   "source": [
    "#First we find the location of a known spike"
   ]
  },
  {
   "cell_type": "code",
   "execution_count": 2,
   "id": "979b5dd5-01b8-4b89-afdb-a0ea052a1178",
   "metadata": {},
   "outputs": [
    {
     "data": {
      "text/plain": [
       "51"
      ]
     },
     "execution_count": 2,
     "metadata": {},
     "output_type": "execute_result"
    }
   ],
   "source": [
    "known_spike_time = meg.spikes[0]['begin']\n",
    "known_spike_time = int(math.floor(known_spike_time))#round to second below\n",
    "known_spike_time"
   ]
  },
  {
   "cell_type": "code",
   "execution_count": 3,
   "id": "ddf862e9-d095-4e99-b5f5-6b2ae91f7824",
   "metadata": {},
   "outputs": [
    {
     "name": "stdout",
     "output_type": "stream",
     "text": [
      "Not setting metadata\n",
      "508 matching events found\n",
      "No baseline correction applied\n",
      "0 projection items activated\n",
      "Loading data for 508 events and 1001 original time points ...\n",
      "0 bad epochs dropped\n"
     ]
    }
   ],
   "source": [
    "#Make 1 second epochs\n",
    "sfreq = mne_fif.info['sfreq']\n",
    "events = np.array([[i, 0, 1] for i in range(0, mne_fif.n_times - int(sfreq), int(sfreq))], dtype=int)\n",
    "epochs = mne.Epochs(mne_fif, events, event_id={'one_sec': 1}, tmin=0, tmax=1, baseline=None, preload=True)"
   ]
  },
  {
   "cell_type": "code",
   "execution_count": 4,
   "id": "915d25c0-62e4-4e37-aa7b-fed7ae654f3a",
   "metadata": {},
   "outputs": [
    {
     "name": "stdout",
     "output_type": "stream",
     "text": [
      "Using matplotlib as 2D backend.\n"
     ]
    },
    {
     "data": {
      "text/plain": [
       "<MNEBrowseFigure size 1600x1600 with 4 Axes>"
      ]
     },
     "execution_count": 4,
     "metadata": {},
     "output_type": "execute_result"
    },
    {
     "name": "stdout",
     "output_type": "stream",
     "text": [
      "Dropped 0 epochs: \n",
      "The following epochs were marked as bad and are dropped:\n",
      "[]\n",
      "Channels marked as bad:\n",
      "none\n"
     ]
    }
   ],
   "source": [
    "#Let's take a look....\n",
    "first_spike = epochs[known_spike_time]\n",
    "\n",
    "# Plot the first epoch\n",
    "first_spike.plot()"
   ]
  },
  {
   "cell_type": "code",
   "execution_count": 5,
   "id": "9f305eb2-6403-4c7c-a969-f5b18252925a",
   "metadata": {},
   "outputs": [
    {
     "name": "stderr",
     "output_type": "stream",
     "text": [
      "[Parallel(n_jobs=1)]: Done  17 tasks      | elapsed:    0.1s\n",
      "[Parallel(n_jobs=1)]: Done  71 tasks      | elapsed:    0.5s\n",
      "[Parallel(n_jobs=1)]: Done 161 tasks      | elapsed:    1.2s\n",
      "[Parallel(n_jobs=1)]: Done 287 tasks      | elapsed:    2.2s\n"
     ]
    },
    {
     "name": "stdout",
     "output_type": "stream",
     "text": [
      "No baseline correction applied\n"
     ]
    },
    {
     "data": {
      "text/plain": [
       "[<Figure size 1280x960 with 2 Axes>]"
      ]
     },
     "execution_count": 5,
     "metadata": {},
     "output_type": "execute_result"
    }
   ],
   "source": [
    "frequencies = np.arange(4, 70, 1)\n",
    "power = mne.time_frequency.tfr_morlet(\n",
    "    epochs[known_spike_time-1:known_spike_time+1], n_cycles=2, return_itc=False, freqs=frequencies, decim=3\n",
    ")\n",
    "power.plot([\"MEG0242\"])"
   ]
  },
  {
   "cell_type": "code",
   "execution_count": 6,
   "id": "194d932a-2fad-4e60-8b06-6fcf5184af20",
   "metadata": {},
   "outputs": [
    {
     "name": "stderr",
     "output_type": "stream",
     "text": [
      "[Parallel(n_jobs=1)]: Done  17 tasks      | elapsed:    0.1s\n",
      "[Parallel(n_jobs=1)]: Done  71 tasks      | elapsed:    0.6s\n",
      "[Parallel(n_jobs=1)]: Done 161 tasks      | elapsed:    1.2s\n",
      "[Parallel(n_jobs=1)]: Done 287 tasks      | elapsed:    2.2s\n"
     ]
    },
    {
     "name": "stdout",
     "output_type": "stream",
     "text": [
      "No baseline correction applied\n"
     ]
    },
    {
     "data": {
      "text/plain": [
       "[<Figure size 1280x960 with 2 Axes>]"
      ]
     },
     "execution_count": 6,
     "metadata": {},
     "output_type": "execute_result"
    }
   ],
   "source": [
    "frequencies = np.arange(4, 70, 1)\n",
    "power = mne.time_frequency.tfr_morlet(\n",
    "    epochs[12:14], n_cycles=2, return_itc=False, freqs=frequencies, decim=3\n",
    ")\n",
    "power.plot([\"MEG0242\"])"
   ]
  },
  {
   "cell_type": "code",
   "execution_count": 7,
   "id": "12a9412a-b4ec-4327-b599-cf45a0a8c47a",
   "metadata": {},
   "outputs": [
    {
     "name": "stdout",
     "output_type": "stream",
     "text": [
      "Not setting metadata\n",
      "2 matching events found\n",
      "No baseline correction applied\n",
      "0 projection items activated\n"
     ]
    },
    {
     "data": {
      "text/plain": [
       "[<Figure size 1280x960 with 4 Axes>]"
      ]
     },
     "execution_count": 7,
     "metadata": {},
     "output_type": "execute_result"
    }
   ],
   "source": [
    "epochs[known_spike_time-1:known_spike_time+1].plot_image(picks=[\"MEG0242\"])"
   ]
  },
  {
   "cell_type": "code",
   "execution_count": 8,
   "id": "7641b080-b5fc-4b53-80f5-74b012ccd539",
   "metadata": {},
   "outputs": [],
   "source": [
    "epochlength = len(epochs)\n",
    "# Creating spiked_list from meg.spikes\n",
    "spiked_list = []\n",
    "for n in range(len(meg.spikes)):\n",
    "    begin = meg.spikes[n]['begin']\n",
    "    spiked_list.append(int(math.floor(begin)))\n",
    "\n",
    "# Remove duplicates and sort spiked_list\n",
    "spiked_list = sorted(list(set(spiked_list)))\n",
    "\n",
    "# Creating unspiked_list\n",
    "unspiked_list = [i for i in range(epochlength) if i not in spiked_list]\n",
    "\n",
    "spiked_epochs = epochs[spiked_list]\n",
    "unspiked_epochs = epochs[unspiked_list]\n",
    "\n",
    "\n",
    "\n"
   ]
  },
  {
   "cell_type": "code",
   "execution_count": 9,
   "id": "0eff8efb-761c-4334-85a5-15480be02135",
   "metadata": {},
   "outputs": [
    {
     "name": "stdout",
     "output_type": "stream",
     "text": [
      "Multiple channel types selected, returning one figure per type.\n",
      "combining channels using \"gfp\"\n",
      "combining channels using \"gfp\"\n",
      "combining channels using \"gfp\"\n",
      "combining channels using \"gfp\"\n",
      "combining channels using \"gfp\"\n",
      "combining channels using \"gfp\"\n"
     ]
    },
    {
     "data": {
      "text/plain": [
       "[<Figure size 1600x1200 with 2 Axes>,\n",
       " <Figure size 1600x1200 with 2 Axes>,\n",
       " <Figure size 1600x1200 with 2 Axes>]"
      ]
     },
     "execution_count": 9,
     "metadata": {},
     "output_type": "execute_result"
    }
   ],
   "source": [
    "spiked_evoked = spiked_epochs.average()\n",
    "unspiked_evoked = unspiked_epochs.average()\n",
    "\n",
    "mne.viz.plot_compare_evokeds(\n",
    "    dict(spiked=spiked_evoked, unspiked=unspiked_evoked),\n",
    "    legend=\"upper left\",\n",
    "    show_sensors=\"upper right\",\n",
    ")"
   ]
  },
  {
   "cell_type": "code",
   "execution_count": 10,
   "id": "f7b87347-84eb-4e23-972c-e91a0841f96e",
   "metadata": {},
   "outputs": [
    {
     "data": {
      "text/plain": [
       "<Figure size 1280x960 with 1 Axes>"
      ]
     },
     "execution_count": 10,
     "metadata": {},
     "output_type": "execute_result"
    }
   ],
   "source": [
    "evoked_diff = mne.combine_evoked([spiked_evoked, unspiked_evoked], weights=[1, -1])\n",
    "evoked_diff.pick(picks=\"mag\").plot_topo(color=\"r\", legend=False)"
   ]
  },
  {
   "cell_type": "code",
   "execution_count": 11,
   "id": "d709a6a0-a373-4cdc-bdd8-1a628a3a55e3",
   "metadata": {},
   "outputs": [
    {
     "name": "stdout",
     "output_type": "stream",
     "text": [
      "No projector specified for this dataset. Please consider the method self.add_proj.\n"
     ]
    },
    {
     "data": {
      "text/plain": [
       "<MNEFigure size 1500x440 with 6 Axes>"
      ]
     },
     "execution_count": 11,
     "metadata": {},
     "output_type": "execute_result"
    }
   ],
   "source": [
    "#Hmmmm\n",
    "spiked_evoked.plot_joint(picks=\"mag\")\n",
    "spiked_evoked.plot_topomap(times=[0.0, 0.08, 0.1, 0.12, 0.2], ch_type=\"mag\")"
   ]
  },
  {
   "cell_type": "code",
   "execution_count": null,
   "id": "b61313cc-9bd4-4a42-8f2e-0a32d6b4cba9",
   "metadata": {},
   "outputs": [],
   "source": []
  }
 ],
 "metadata": {
  "kernelspec": {
   "display_name": "Python 3 (ipykernel)",
   "language": "python",
   "name": "python3"
  },
  "language_info": {
   "codemirror_mode": {
    "name": "ipython",
    "version": 3
   },
   "file_extension": ".py",
   "mimetype": "text/x-python",
   "name": "python",
   "nbconvert_exporter": "python",
   "pygments_lexer": "ipython3",
   "version": "3.12.0"
  }
 },
 "nbformat": 4,
 "nbformat_minor": 5
}
