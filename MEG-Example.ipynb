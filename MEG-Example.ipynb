{
 "cells": [
  {
   "cell_type": "code",
   "execution_count": 1,
   "id": "63736671-77f0-4b1d-836d-11b8a28a4f59",
   "metadata": {},
   "outputs": [],
   "source": [
    "import mne\n",
    "from MEG_Tools import MEG\n",
    "import matplotlib as plt\n",
    "import numpy as np"
   ]
  },
  {
   "cell_type": "code",
   "execution_count": null,
   "id": "306c387f-8982-4615-ae49-764a9e302486",
   "metadata": {},
   "outputs": [],
   "source": [
    "plt.use('Qt5Agg') #Allows Charts to pop-up and use interactive features"
   ]
  },
  {
   "cell_type": "code",
   "execution_count": null,
   "id": "9eb8bb14-fdc4-4d8b-bbfe-0efa47212993",
   "metadata": {},
   "outputs": [],
   "source": [
    "meg = MEG('case_2225_with_spike_dipoles_sleep_2.mat') #must have data file in this directory\n",
    "mne_fif = meg.get_mne()"
   ]
  },
  {
   "cell_type": "code",
   "execution_count": null,
   "id": "dae75ac8-a402-42b1-9ebf-0d56dfd09224",
   "metadata": {},
   "outputs": [],
   "source": [
    "mne_fif.plot(scalings={'mag': 3.0e-11})  # Creates pop-up chart"
   ]
  }
 ],
 "metadata": {
  "kernelspec": {
   "display_name": "Python 3 (ipykernel)",
   "language": "python",
   "name": "python3"
  },
  "language_info": {
   "codemirror_mode": {
    "name": "ipython",
    "version": 3
   },
   "file_extension": ".py",
   "mimetype": "text/x-python",
   "name": "python",
   "nbconvert_exporter": "python",
   "pygments_lexer": "ipython3",
   "version": "3.12.0"
  }
 },
 "nbformat": 4,
 "nbformat_minor": 5
}
