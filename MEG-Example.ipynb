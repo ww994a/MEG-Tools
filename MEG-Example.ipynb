{
 "cells": [
  {
   "cell_type": "code",
   "execution_count": 2,
   "id": "63736671-77f0-4b1d-836d-11b8a28a4f59",
   "metadata": {},
   "outputs": [],
   "source": [
    "import mne\n",
    "from MEG_Tools import MEG\n",
    "import matplotlib as plt\n",
    "import numpy as np"
   ]
  },
  {
   "cell_type": "code",
   "execution_count": 3,
   "id": "306c387f-8982-4615-ae49-764a9e302486",
   "metadata": {},
   "outputs": [],
   "source": [
    "plt.use('Qt5Agg') #Allows Charts to pop-up and use interactive features"
   ]
  },
  {
   "cell_type": "code",
   "execution_count": 4,
   "id": "9eb8bb14-fdc4-4d8b-bbfe-0efa47212993",
   "metadata": {},
   "outputs": [
    {
     "name": "stdout",
     "output_type": "stream",
     "text": [
      "Creating RawArray with float64 data, n_channels=373, n_times=509000\n",
      "    Range : 0 ... 508999 =      0.000 ...   508.999 secs\n",
      "Ready.\n",
      "Writing /Users/williamwilson/Library/CloudStorage/Dropbox/Ganz/MEG/MEG-Tools/case_2225_with_spike_dipoles_sleep_2.mat.tmp.raw.fif\n",
      "Closing /Users/williamwilson/Library/CloudStorage/Dropbox/Ganz/MEG/MEG-Tools/case_2225_with_spike_dipoles_sleep_2.mat.tmp.raw.fif\n",
      "[done]\n",
      "Opening raw data file case_2225_with_spike_dipoles_sleep_2.mat.tmp.raw.fif...\n",
      "Isotrak not found\n",
      "    Range : 0 ... 508999 =      0.000 ...   508.999 secs\n",
      "Ready.\n"
     ]
    }
   ],
   "source": [
    "meg = MEG('case_2225_with_spike_dipoles_sleep_2.mat') #must have data file in this directory\n",
    "mne_fif = meg.get_mne()"
   ]
  },
  {
   "cell_type": "code",
   "execution_count": 5,
   "id": "dae75ac8-a402-42b1-9ebf-0d56dfd09224",
   "metadata": {},
   "outputs": [
    {
     "name": "stdout",
     "output_type": "stream",
     "text": [
      "Using matplotlib as 2D backend.\n"
     ]
    },
    {
     "data": {
      "text/plain": [
       "<MNEBrowseFigure size 1600x1600 with 4 Axes>"
      ]
     },
     "execution_count": 5,
     "metadata": {},
     "output_type": "execute_result"
    }
   ],
   "source": [
    "mne_fif.plot(scalings={'mag': 3.0e-11,'eeg': 1.0e-3})  # Manual adjustment"
   ]
  },
  {
   "cell_type": "code",
   "execution_count": null,
   "id": "ffb74a77-a94c-41bf-837f-4e5a67ef05db",
   "metadata": {},
   "outputs": [],
   "source": []
  }
 ],
 "metadata": {
  "kernelspec": {
   "display_name": "Python 3 (ipykernel)",
   "language": "python",
   "name": "python3"
  },
  "language_info": {
   "codemirror_mode": {
    "name": "ipython",
    "version": 3
   },
   "file_extension": ".py",
   "mimetype": "text/x-python",
   "name": "python",
   "nbconvert_exporter": "python",
   "pygments_lexer": "ipython3",
   "version": "3.12.0"
  }
 },
 "nbformat": 4,
 "nbformat_minor": 5
}
