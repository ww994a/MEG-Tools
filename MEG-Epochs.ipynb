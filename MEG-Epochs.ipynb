{
 "cells": [
  {
   "cell_type": "code",
   "execution_count": 1,
   "id": "d507b0c5-2e32-4339-85a1-cb9bee89d14a",
   "metadata": {},
   "outputs": [
    {
     "name": "stdout",
     "output_type": "stream",
     "text": [
      "Creating RawArray with float64 data, n_channels=373, n_times=509000\n",
      "    Range : 0 ... 508999 =      0.000 ...   508.999 secs\n",
      "Ready.\n",
      "Writing /Users/williamwilson/Library/CloudStorage/Dropbox/Ganz/MEG/MEG-Tools/case_2225_with_spike_dipoles_sleep_2.mat.tmp.raw.fif\n",
      "Closing /Users/williamwilson/Library/CloudStorage/Dropbox/Ganz/MEG/MEG-Tools/case_2225_with_spike_dipoles_sleep_2.mat.tmp.raw.fif\n",
      "[done]\n",
      "Opening raw data file case_2225_with_spike_dipoles_sleep_2.mat.tmp.raw.fif...\n",
      "Isotrak not found\n",
      "    Range : 0 ... 508999 =      0.000 ...   508.999 secs\n",
      "Ready.\n"
     ]
    }
   ],
   "source": [
    "import mne\n",
    "from MEG_Tools import MEG\n",
    "import matplotlib as plt\n",
    "import numpy as np\n",
    "plt.use('Qt5Agg')\n",
    "meg = MEG('case_2225_with_spike_dipoles_sleep_2.mat')\n",
    "mne_fif = meg.get_mne()"
   ]
  },
  {
   "cell_type": "code",
   "execution_count": 2,
   "id": "4d614440-4e2f-4e35-81ee-af053b04dd7d",
   "metadata": {},
   "outputs": [
    {
     "name": "stdout",
     "output_type": "stream",
     "text": [
      "Not setting metadata\n",
      "508 matching events found\n",
      "No baseline correction applied\n",
      "0 projection items activated\n",
      "Loading data for 508 events and 1001 original time points ...\n",
      "0 bad epochs dropped\n"
     ]
    }
   ],
   "source": [
    "#seperate into epochs\n",
    "sfreq = mne_fif.info['sfreq']  # Get the sampling frequency\n",
    "\n",
    "# Calculate the number of samples per second (ensure it's an integer)\n",
    "event_interval = int(sfreq)\n",
    "\n",
    "# Calculate the total number of events possible within the data duration\n",
    "# Subtract one second (in samples) to avoid going beyond the data range\n",
    "n_events = int((mne_fif.n_times - sfreq) / event_interval)\n",
    "\n",
    "# Create the events array\n",
    "event_id = 1  # Arbitrary event ID\n",
    "events = np.array([\n",
    "    [i * event_interval, 0, event_id] for i in range(n_events)\n",
    "], dtype=int)\n",
    "\n",
    "# Create Epochs\n",
    "epochs = mne.Epochs(mne_fif, events=events, event_id={'one_sec': event_id},\n",
    "                    tmin=0, tmax=1, baseline=None, preload=True)\n",
    "\n",
    "# Now you have epochs of 1 second each\n"
   ]
  },
  {
   "cell_type": "code",
   "execution_count": 3,
   "id": "694aa12f-8b74-404e-8326-67e1d461abe3",
   "metadata": {},
   "outputs": [
    {
     "name": "stdout",
     "output_type": "stream",
     "text": [
      "Using matplotlib as 2D backend.\n"
     ]
    },
    {
     "data": {
      "text/plain": [
       "<MNEBrowseFigure size 1600x1600 with 4 Axes>"
      ]
     },
     "execution_count": 3,
     "metadata": {},
     "output_type": "execute_result"
    },
    {
     "name": "stdout",
     "output_type": "stream",
     "text": [
      "Dropped 2 epochs: 3, 5\n",
      "The following epochs were marked as bad and are dropped:\n",
      "[3, 5]\n",
      "Channels marked as bad:\n",
      "none\n"
     ]
    }
   ],
   "source": [
    "epochs.plot()"
   ]
  },
  {
   "cell_type": "code",
   "execution_count": 4,
   "id": "9aeb2540-c134-40ad-bd98-0a04e26d527d",
   "metadata": {},
   "outputs": [
    {
     "data": {
      "text/plain": [
       "<MNEBrowseFigure size 1600x1600 with 4 Axes>"
      ]
     },
     "execution_count": 4,
     "metadata": {},
     "output_type": "execute_result"
    },
    {
     "name": "stdout",
     "output_type": "stream",
     "text": [
      "Dropped 0 epochs: \n",
      "The following epochs were marked as bad and are dropped:\n",
      "[]\n",
      "Channels marked as bad:\n",
      "none\n"
     ]
    }
   ],
   "source": [
    "# Select the first epoch (index 0)\n",
    "first_epoch = epochs[0]\n",
    "\n",
    "# Plot the first epoch\n",
    "first_epoch.plot()"
   ]
  },
  {
   "cell_type": "code",
   "execution_count": 5,
   "id": "6a3448d6-d489-4bd8-80dd-d0f4b8b70dae",
   "metadata": {},
   "outputs": [
    {
     "name": "stdout",
     "output_type": "stream",
     "text": [
      "Not setting metadata\n",
      "2 matching events found\n",
      "No baseline correction applied\n",
      "0 projection items activated\n"
     ]
    },
    {
     "data": {
      "text/plain": [
       "[<Figure size 1280x960 with 4 Axes>]"
      ]
     },
     "execution_count": 5,
     "metadata": {},
     "output_type": "execute_result"
    }
   ],
   "source": [
    "epochs[100:102].plot_image(picks=[\"MEG0242\"])"
   ]
  },
  {
   "cell_type": "code",
   "execution_count": 6,
   "id": "8b812e23-1745-46ef-b28a-5dbefccbce62",
   "metadata": {},
   "outputs": [
    {
     "name": "stderr",
     "output_type": "stream",
     "text": [
      "[Parallel(n_jobs=1)]: Done  17 tasks      | elapsed:    0.1s\n",
      "[Parallel(n_jobs=1)]: Done  71 tasks      | elapsed:    0.2s\n",
      "[Parallel(n_jobs=1)]: Done 161 tasks      | elapsed:    0.5s\n",
      "[Parallel(n_jobs=1)]: Done 287 tasks      | elapsed:    0.9s\n"
     ]
    },
    {
     "name": "stdout",
     "output_type": "stream",
     "text": [
      "No baseline correction applied\n"
     ]
    },
    {
     "data": {
      "text/plain": [
       "[<Figure size 1280x960 with 2 Axes>]"
      ]
     },
     "execution_count": 6,
     "metadata": {},
     "output_type": "execute_result"
    }
   ],
   "source": [
    "#Morlet Wavelet\n",
    "\n",
    "#Delta (1-4 Hz): Often associated with sleep.\n",
    "#Theta (4-8 Hz): Linked to drowsiness, creativity, and deep meditation.\n",
    "#Alpha (8-12 Hz): Related to relaxed but awake state.\n",
    "#Beta (12-30 Hz): Commonly associated with active thinking, focus, high alertness.\n",
    "#Gamma (30-100 Hz): Involved in higher mental activity and consolidation of information.\n",
    "\n",
    "frequencies = np.arange(4, 50, 1)\n",
    "power = mne.time_frequency.tfr_morlet(\n",
    "    epochs[100:101], n_cycles=2, return_itc=False, freqs=frequencies, decim=3\n",
    ")\n",
    "power.plot([\"MEG0242\"])"
   ]
  },
  {
   "cell_type": "code",
   "execution_count": 7,
   "id": "8535f085-e80e-4388-8c25-b6c85f67c27c",
   "metadata": {},
   "outputs": [
    {
     "data": {
      "text/plain": [
       "<MNEBrowseFigure size 1600x1600 with 4 Axes>"
      ]
     },
     "execution_count": 7,
     "metadata": {},
     "output_type": "execute_result"
    },
    {
     "name": "stdout",
     "output_type": "stream",
     "text": [
      "Dropped 0 epochs: \n",
      "The following epochs were marked as bad and are dropped:\n",
      "[]\n",
      "Channels marked as bad:\n",
      "['MEG0243', 'MEG0233', 'MEG0313']\n"
     ]
    }
   ],
   "source": [
    "epochs[100].plot()"
   ]
  },
  {
   "cell_type": "code",
   "execution_count": 8,
   "id": "554acb9c-e36a-4b43-a450-64a90a53044d",
   "metadata": {},
   "outputs": [
    {
     "data": {
      "text/plain": [
       "array([[[-5.28213584e-12, -5.72591996e-13,  2.38620040e-12, ...,\n",
       "          1.16210297e-11,  4.63390264e-12,  9.85979787e-12],\n",
       "        [ 5.91606833e-11,  5.11052867e-11,  6.47364592e-11, ...,\n",
       "          1.71067015e-11,  2.35014976e-11,  2.68636190e-11],\n",
       "        [-3.48151824e-12, -3.06463969e-12, -3.07153651e-12, ...,\n",
       "         -8.67891750e-13, -8.40001354e-13, -1.12268419e-12],\n",
       "        ...,\n",
       "        [ 0.00000000e+00,  0.00000000e+00,  0.00000000e+00, ...,\n",
       "          0.00000000e+00,  0.00000000e+00,  0.00000000e+00],\n",
       "        [ 0.00000000e+00,  0.00000000e+00,  0.00000000e+00, ...,\n",
       "          0.00000000e+00,  0.00000000e+00,  0.00000000e+00],\n",
       "        [-2.63353348e+00, -2.58022308e+00, -2.52691269e+00, ...,\n",
       "          9.43194199e+00,  9.37863159e+00,  9.32532120e+00]]])"
      ]
     },
     "execution_count": 8,
     "metadata": {},
     "output_type": "execute_result"
    }
   ],
   "source": [
    "epochs[100].get_data(copy=True)"
   ]
  },
  {
   "cell_type": "code",
   "execution_count": null,
   "id": "3c256f11-6c93-49db-b77c-7a6cc4b49bbd",
   "metadata": {},
   "outputs": [],
   "source": []
  }
 ],
 "metadata": {
  "kernelspec": {
   "display_name": "Python 3 (ipykernel)",
   "language": "python",
   "name": "python3"
  },
  "language_info": {
   "codemirror_mode": {
    "name": "ipython",
    "version": 3
   },
   "file_extension": ".py",
   "mimetype": "text/x-python",
   "name": "python",
   "nbconvert_exporter": "python",
   "pygments_lexer": "ipython3",
   "version": "3.12.0"
  }
 },
 "nbformat": 4,
 "nbformat_minor": 5
}
